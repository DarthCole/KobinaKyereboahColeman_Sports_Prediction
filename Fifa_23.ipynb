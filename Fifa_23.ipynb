{
 "cells": [
  {
   "cell_type": "markdown",
   "id": "b668e010-8662-43a2-bd32-af920eab5591",
   "metadata": {},
   "source": [
    "# FIFA 23 PREDICTIVE AI "
   ]
  },
  {
   "cell_type": "code",
   "execution_count": 323,
   "id": "34cb2aef-0423-4a0d-bf65-924c12b57688",
   "metadata": {},
   "outputs": [],
   "source": [
    "# AUTHOR: Kobina Kyereboah-Coleman\n",
    "# DATE: June 23rd 2024\n",
    "# TOD: Assignment 2\n",
    "# TODO: Player Rating Prediction AI"
   ]
  },
  {
   "cell_type": "markdown",
   "id": "f72d7f8c-90c3-447b-a8fc-456ed4fa021b",
   "metadata": {},
   "source": [
    "## PYTHON LIBRARIES & MODULES"
   ]
  },
  {
   "cell_type": "code",
   "execution_count": 324,
   "id": "16d6a047-a5b7-4d96-9f73-3d18c82270fd",
   "metadata": {},
   "outputs": [],
   "source": [
    "import pandas as pd\n",
    "import numpy as np\n",
    "import os\n",
    "import pandas as pd\n",
    "from sklearn.impute import SimpleImputer\n",
    "from sklearn.preprocessing import LabelEncoder, OneHotEncoder\n",
    "from sklearn.model_selection import train_test_split\n",
    "from sklearn.metrics import mean_absolute_error, mean_squared_error, confusion_matrix\n",
    "from sklearn.preprocessing import StandardScaler\n",
    "from sklearn.ensemble import RandomForestRegressor"
   ]
  },
  {
   "cell_type": "markdown",
   "id": "411cfaae-247f-4bfe-b3fb-2448979800ce",
   "metadata": {},
   "source": [
    "## DATA PREP"
   ]
  },
  {
   "cell_type": "code",
   "execution_count": 325,
   "id": "24829799-3208-42a2-b429-7838e0fa486a",
   "metadata": {},
   "outputs": [
    {
     "name": "stderr",
     "output_type": "stream",
     "text": [
      "/var/folders/23/2w1hzc8j4qj80m0y2t4jqwvh0000gn/T/ipykernel_1019/4126988420.py:2: DtypeWarning: Columns (108) have mixed types. Specify dtype option on import or set low_memory=False.\n",
      "  fifa_23 = pd.read_csv('/Users/kobby/Downloads/Male Players Legacy.csv')\n"
     ]
    }
   ],
   "source": [
    "# Load the dataset \n",
    "fifa_23 = pd.read_csv('/Users/kobby/Downloads/Male Players Legacy.csv')"
   ]
  },
  {
   "cell_type": "code",
   "execution_count": 326,
   "id": "d7cc8b66-d5b5-40fa-b37e-f84beb23dd7f",
   "metadata": {},
   "outputs": [
    {
     "data": {
      "text/html": [
       "<div>\n",
       "<style scoped>\n",
       "    .dataframe tbody tr th:only-of-type {\n",
       "        vertical-align: middle;\n",
       "    }\n",
       "\n",
       "    .dataframe tbody tr th {\n",
       "        vertical-align: top;\n",
       "    }\n",
       "\n",
       "    .dataframe thead th {\n",
       "        text-align: right;\n",
       "    }\n",
       "</style>\n",
       "<table border=\"1\" class=\"dataframe\">\n",
       "  <thead>\n",
       "    <tr style=\"text-align: right;\">\n",
       "      <th></th>\n",
       "      <th>player_id</th>\n",
       "      <th>player_url</th>\n",
       "      <th>fifa_version</th>\n",
       "      <th>fifa_update</th>\n",
       "      <th>fifa_update_date</th>\n",
       "      <th>short_name</th>\n",
       "      <th>long_name</th>\n",
       "      <th>player_positions</th>\n",
       "      <th>overall</th>\n",
       "      <th>potential</th>\n",
       "      <th>...</th>\n",
       "      <th>cdm</th>\n",
       "      <th>rdm</th>\n",
       "      <th>rwb</th>\n",
       "      <th>lb</th>\n",
       "      <th>lcb</th>\n",
       "      <th>cb</th>\n",
       "      <th>rcb</th>\n",
       "      <th>rb</th>\n",
       "      <th>gk</th>\n",
       "      <th>player_face_url</th>\n",
       "    </tr>\n",
       "  </thead>\n",
       "  <tbody>\n",
       "    <tr>\n",
       "      <th>0</th>\n",
       "      <td>158023</td>\n",
       "      <td>/player/158023/lionel-messi/150002</td>\n",
       "      <td>15</td>\n",
       "      <td>2</td>\n",
       "      <td>2014-09-18</td>\n",
       "      <td>L. Messi</td>\n",
       "      <td>Lionel Andrés Messi Cuccittini</td>\n",
       "      <td>CF</td>\n",
       "      <td>93</td>\n",
       "      <td>95</td>\n",
       "      <td>...</td>\n",
       "      <td>62+3</td>\n",
       "      <td>62+3</td>\n",
       "      <td>62+3</td>\n",
       "      <td>54+3</td>\n",
       "      <td>45+3</td>\n",
       "      <td>45+3</td>\n",
       "      <td>45+3</td>\n",
       "      <td>54+3</td>\n",
       "      <td>15+3</td>\n",
       "      <td>https://cdn.sofifa.net/players/158/023/15_120.png</td>\n",
       "    </tr>\n",
       "    <tr>\n",
       "      <th>1</th>\n",
       "      <td>20801</td>\n",
       "      <td>/player/20801/c-ronaldo-dos-santos-aveiro/150002</td>\n",
       "      <td>15</td>\n",
       "      <td>2</td>\n",
       "      <td>2014-09-18</td>\n",
       "      <td>Cristiano Ronaldo</td>\n",
       "      <td>Cristiano Ronaldo dos Santos Aveiro</td>\n",
       "      <td>LW, LM</td>\n",
       "      <td>92</td>\n",
       "      <td>92</td>\n",
       "      <td>...</td>\n",
       "      <td>63+3</td>\n",
       "      <td>63+3</td>\n",
       "      <td>63+3</td>\n",
       "      <td>57+3</td>\n",
       "      <td>52+3</td>\n",
       "      <td>52+3</td>\n",
       "      <td>52+3</td>\n",
       "      <td>57+3</td>\n",
       "      <td>16+3</td>\n",
       "      <td>https://cdn.sofifa.net/players/020/801/15_120.png</td>\n",
       "    </tr>\n",
       "    <tr>\n",
       "      <th>2</th>\n",
       "      <td>9014</td>\n",
       "      <td>/player/9014/arjen-robben/150002</td>\n",
       "      <td>15</td>\n",
       "      <td>2</td>\n",
       "      <td>2014-09-18</td>\n",
       "      <td>A. Robben</td>\n",
       "      <td>Arjen Robben</td>\n",
       "      <td>RM, LM, RW</td>\n",
       "      <td>90</td>\n",
       "      <td>90</td>\n",
       "      <td>...</td>\n",
       "      <td>64+3</td>\n",
       "      <td>64+3</td>\n",
       "      <td>64+3</td>\n",
       "      <td>55+3</td>\n",
       "      <td>46+3</td>\n",
       "      <td>46+3</td>\n",
       "      <td>46+3</td>\n",
       "      <td>55+3</td>\n",
       "      <td>14+3</td>\n",
       "      <td>https://cdn.sofifa.net/players/009/014/15_120.png</td>\n",
       "    </tr>\n",
       "    <tr>\n",
       "      <th>3</th>\n",
       "      <td>41236</td>\n",
       "      <td>/player/41236/zlatan-ibrahimovic/150002</td>\n",
       "      <td>15</td>\n",
       "      <td>2</td>\n",
       "      <td>2014-09-18</td>\n",
       "      <td>Z. Ibrahimović</td>\n",
       "      <td>Zlatan Ibrahimović</td>\n",
       "      <td>ST</td>\n",
       "      <td>90</td>\n",
       "      <td>90</td>\n",
       "      <td>...</td>\n",
       "      <td>65+3</td>\n",
       "      <td>65+3</td>\n",
       "      <td>61+3</td>\n",
       "      <td>56+3</td>\n",
       "      <td>55+3</td>\n",
       "      <td>55+3</td>\n",
       "      <td>55+3</td>\n",
       "      <td>56+3</td>\n",
       "      <td>17+3</td>\n",
       "      <td>https://cdn.sofifa.net/players/041/236/15_120.png</td>\n",
       "    </tr>\n",
       "    <tr>\n",
       "      <th>4</th>\n",
       "      <td>167495</td>\n",
       "      <td>/player/167495/manuel-neuer/150002</td>\n",
       "      <td>15</td>\n",
       "      <td>2</td>\n",
       "      <td>2014-09-18</td>\n",
       "      <td>M. Neuer</td>\n",
       "      <td>Manuel Peter Neuer</td>\n",
       "      <td>GK</td>\n",
       "      <td>90</td>\n",
       "      <td>90</td>\n",
       "      <td>...</td>\n",
       "      <td>40+3</td>\n",
       "      <td>40+3</td>\n",
       "      <td>36+3</td>\n",
       "      <td>36+3</td>\n",
       "      <td>38+3</td>\n",
       "      <td>38+3</td>\n",
       "      <td>38+3</td>\n",
       "      <td>36+3</td>\n",
       "      <td>87+3</td>\n",
       "      <td>https://cdn.sofifa.net/players/167/495/15_120.png</td>\n",
       "    </tr>\n",
       "  </tbody>\n",
       "</table>\n",
       "<p>5 rows × 110 columns</p>\n",
       "</div>"
      ],
      "text/plain": [
       "   player_id                                        player_url  fifa_version  \\\n",
       "0     158023                /player/158023/lionel-messi/150002            15   \n",
       "1      20801  /player/20801/c-ronaldo-dos-santos-aveiro/150002            15   \n",
       "2       9014                  /player/9014/arjen-robben/150002            15   \n",
       "3      41236           /player/41236/zlatan-ibrahimovic/150002            15   \n",
       "4     167495                /player/167495/manuel-neuer/150002            15   \n",
       "\n",
       "   fifa_update fifa_update_date         short_name  \\\n",
       "0            2       2014-09-18           L. Messi   \n",
       "1            2       2014-09-18  Cristiano Ronaldo   \n",
       "2            2       2014-09-18          A. Robben   \n",
       "3            2       2014-09-18     Z. Ibrahimović   \n",
       "4            2       2014-09-18           M. Neuer   \n",
       "\n",
       "                             long_name player_positions  overall  potential  \\\n",
       "0       Lionel Andrés Messi Cuccittini               CF       93         95   \n",
       "1  Cristiano Ronaldo dos Santos Aveiro           LW, LM       92         92   \n",
       "2                         Arjen Robben       RM, LM, RW       90         90   \n",
       "3                   Zlatan Ibrahimović               ST       90         90   \n",
       "4                   Manuel Peter Neuer               GK       90         90   \n",
       "\n",
       "   ...   cdm   rdm   rwb    lb   lcb    cb   rcb    rb    gk  \\\n",
       "0  ...  62+3  62+3  62+3  54+3  45+3  45+3  45+3  54+3  15+3   \n",
       "1  ...  63+3  63+3  63+3  57+3  52+3  52+3  52+3  57+3  16+3   \n",
       "2  ...  64+3  64+3  64+3  55+3  46+3  46+3  46+3  55+3  14+3   \n",
       "3  ...  65+3  65+3  61+3  56+3  55+3  55+3  55+3  56+3  17+3   \n",
       "4  ...  40+3  40+3  36+3  36+3  38+3  38+3  38+3  36+3  87+3   \n",
       "\n",
       "                                     player_face_url  \n",
       "0  https://cdn.sofifa.net/players/158/023/15_120.png  \n",
       "1  https://cdn.sofifa.net/players/020/801/15_120.png  \n",
       "2  https://cdn.sofifa.net/players/009/014/15_120.png  \n",
       "3  https://cdn.sofifa.net/players/041/236/15_120.png  \n",
       "4  https://cdn.sofifa.net/players/167/495/15_120.png  \n",
       "\n",
       "[5 rows x 110 columns]"
      ]
     },
     "execution_count": 326,
     "metadata": {},
     "output_type": "execute_result"
    }
   ],
   "source": [
    "# View the first 5 rows of the dataframe\n",
    "fifa_23.head()"
   ]
  },
  {
   "cell_type": "code",
   "execution_count": 327,
   "id": "1402483d-1b94-49c6-a2b2-f87ac93b6575",
   "metadata": {},
   "outputs": [
    {
     "name": "stdout",
     "output_type": "stream",
     "text": [
      "<class 'pandas.core.frame.DataFrame'>\n",
      "RangeIndex: 161583 entries, 0 to 161582\n",
      "Columns: 110 entries, player_id to player_face_url\n",
      "dtypes: float64(18), int64(45), object(47)\n",
      "memory usage: 135.6+ MB\n"
     ]
    }
   ],
   "source": [
    "fifa_23.info()"
   ]
  },
  {
   "cell_type": "markdown",
   "id": "44931502-ac20-4010-945e-207f5d128626",
   "metadata": {},
   "source": [
    "## DATA CLEANING"
   ]
  },
  {
   "cell_type": "code",
   "execution_count": 328,
   "id": "fad71d82-9cff-46ac-a1b8-cb4d3b89a344",
   "metadata": {},
   "outputs": [],
   "source": [
    "### NA Threshold Function\n",
    "# A function that takes a dataframe and returns the features that are safe to work with\n",
    "def threshold(data):\n",
    "    # Renaming dataset for conveniece\n",
    "    # data = fifa_23 \n",
    "    \n",
    "    # The data integrity threshold provided (30%)\n",
    "    threshold = 0.3\n",
    "    \n",
    "    # Calculating threshold count for missing values\n",
    "    threshold_count = int(threshold * len(data))\n",
    "    \n",
    "    # Pulling out unsafe columns\n",
    "    unsafe_columns = [col for col in data.columns if data[col].isnull().sum() > threshold_count]\n",
    "    print(f\"{len(unsafe_columns)} unsafe columns were identified.\")\n",
    "    \n",
    "    return unsafe_columns"
   ]
  },
  {
   "cell_type": "code",
   "execution_count": 329,
   "id": "8ed7433c-b40b-4f31-8129-778e890985ef",
   "metadata": {},
   "outputs": [
    {
     "name": "stdout",
     "output_type": "stream",
     "text": [
      "8 unsafe columns were identified.\n"
     ]
    },
    {
     "data": {
      "text/plain": [
       "['club_loaned_from',\n",
       " 'nation_team_id',\n",
       " 'nation_position',\n",
       " 'nation_jersey_number',\n",
       " 'release_clause_eur',\n",
       " 'player_tags',\n",
       " 'player_traits',\n",
       " 'goalkeeping_speed']"
      ]
     },
     "execution_count": 329,
     "metadata": {},
     "output_type": "execute_result"
    }
   ],
   "source": [
    "# Calling the threshold function on my dataframe\n",
    "threshold(fifa_23)"
   ]
  },
  {
   "cell_type": "code",
   "execution_count": 330,
   "id": "1a0a28df-600f-42b2-a2a8-139f383daf6c",
   "metadata": {},
   "outputs": [],
   "source": [
    "# Dropping the unsafe features(columns) in the dataframe\n",
    "dataset = fifa_23.drop(columns = ['club_loaned_from','nation_team_id','nation_position','nation_jersey_number','release_clause_eur','player_tags','player_traits','goalkeeping_speed'])"
   ]
  },
  {
   "cell_type": "code",
   "execution_count": 331,
   "id": "d7b80d7f-20f1-4839-9377-30522c618cd6",
   "metadata": {},
   "outputs": [
    {
     "data": {
      "text/plain": [
       "Index(['player_id', 'player_url', 'fifa_version', 'fifa_update',\n",
       "       'fifa_update_date', 'short_name', 'long_name', 'player_positions',\n",
       "       'overall', 'potential',\n",
       "       ...\n",
       "       'cdm', 'rdm', 'rwb', 'lb', 'lcb', 'cb', 'rcb', 'rb', 'gk',\n",
       "       'player_face_url'],\n",
       "      dtype='object', length=102)"
      ]
     },
     "execution_count": 331,
     "metadata": {},
     "output_type": "execute_result"
    }
   ],
   "source": [
    "dataset.columns\n",
    "# The number of coolumns in the dataframe is now '102'."
   ]
  },
  {
   "cell_type": "code",
   "execution_count": 332,
   "id": "e2111de9-f499-48e6-813b-a1f5ee5b1e4f",
   "metadata": {},
   "outputs": [
    {
     "data": {
      "text/plain": [
       "Index(['overall', 'potential', 'value_eur', 'wage_eur', 'age', 'height_cm',\n",
       "       'weight_kg', 'skill_moves', 'international_reputation', 'pace',\n",
       "       'shooting', 'passing', 'dribbling', 'defending', 'physic',\n",
       "       'attacking_crossing', 'attacking_finishing',\n",
       "       'attacking_heading_accuracy', 'attacking_short_passing',\n",
       "       'attacking_volleys', 'skill_dribbling', 'skill_curve',\n",
       "       'skill_fk_accuracy', 'skill_long_passing', 'skill_ball_control',\n",
       "       'movement_acceleration', 'movement_sprint_speed', 'movement_agility',\n",
       "       'movement_reactions', 'movement_balance', 'power_shot_power',\n",
       "       'power_jumping', 'power_stamina', 'power_strength', 'power_long_shots',\n",
       "       'mentality_aggression', 'mentality_interceptions',\n",
       "       'mentality_positioning', 'mentality_vision', 'mentality_penalties',\n",
       "       'mentality_composure', 'defending_marking_awareness',\n",
       "       'defending_standing_tackle', 'defending_sliding_tackle',\n",
       "       'goalkeeping_diving', 'goalkeeping_handling', 'goalkeeping_kicking',\n",
       "       'goalkeeping_positioning', 'goalkeeping_reflexes'],\n",
       "      dtype='object')"
      ]
     },
     "execution_count": 332,
     "metadata": {},
     "output_type": "execute_result"
    }
   ],
   "source": [
    "# Dropping extra unecessary columns that are irrelevant to player rating\n",
    "dataset = dataset.drop(columns = ['fifa_update','player_id','player_url','player_positions','dob','fifa_update_date','work_rate','body_type','real_face','short_name','long_name','club_contract_valid_until_year','fifa_version','league_level','nationality_id','player_face_url','league_id', 'league_name','club_team_id', 'club_name', 'club_position', 'club_jersey_number','club_joined_date', 'nationality_name', 'preferred_foot', 'weak_foot','ls', 'st', 'rs','lw', 'lf', 'cf', 'rf', 'rw', 'lam', 'cam', 'ram', 'lm', 'lcm', 'cm','rcm', 'rm', 'lwb', 'ldm', 'cdm', 'rdm', 'rwb', 'lb', 'lcb', 'cb','rcb', 'rb', 'gk'])\n",
    "dataset.columns"
   ]
  },
  {
   "cell_type": "code",
   "execution_count": 333,
   "id": "9362e995-1114-42ac-8cfe-f1f9d2d41bab",
   "metadata": {},
   "outputs": [],
   "source": [
    "# Identifying Columns With Missing Values\n",
    "# A function that searches for columns in the dataframe with missing values\n",
    "def find_null_columns(x):\n",
    "    null_columns = []\n",
    "    for col in x.columns:\n",
    "        if x[col].isnull().any():\n",
    "            null_columns.append(col)\n",
    "    print(null_columns)"
   ]
  },
  {
   "cell_type": "code",
   "execution_count": 334,
   "id": "84e7f9e3-8202-4dfe-ade4-86bdba0c0197",
   "metadata": {},
   "outputs": [
    {
     "name": "stdout",
     "output_type": "stream",
     "text": [
      "['value_eur', 'wage_eur', 'pace', 'shooting', 'passing', 'dribbling', 'defending', 'physic', 'mentality_composure']\n"
     ]
    }
   ],
   "source": [
    "find_null_columns(dataset)\n",
    "# The displayed list is an array of the columns with missing entriess"
   ]
  },
  {
   "cell_type": "code",
   "execution_count": 335,
   "id": "9f465012-e9f4-4054-954b-e6872e11bd7d",
   "metadata": {},
   "outputs": [],
   "source": [
    "# Handling missing values in the null columns \n",
    "# Initializing an array to store the columns with null values\n",
    "columns_to_rectify = ['value_eur', 'wage_eur', 'league_id', 'league_name', 'league_level', 'club_team_id', 'club_name', 'club_position', 'club_jersey_number', 'club_joined_date', 'club_contract_valid_until_year', 'pace', 'shooting', 'passing', 'dribbling', 'defending', 'physic', 'mentality_composure']\n",
    "\n",
    "# A function that replaces missing values in the columns of a datset with the deian of the column\n",
    "for column in columns_to_rectify:\n",
    "    if column in dataset.columns:\n",
    "        # Fill NAs in each column with the median of that particular column\n",
    "        dataset[column] = dataset[column].fillna(dataset[column].median())"
   ]
  },
  {
   "cell_type": "markdown",
   "id": "d143e919-27b1-4367-8864-79c52328b496",
   "metadata": {},
   "source": [
    "## CORRELATION MATRIX"
   ]
  },
  {
   "cell_type": "code",
   "execution_count": 336,
   "id": "b9387230-ed33-4c2a-a6cf-a10c6a86ddd1",
   "metadata": {},
   "outputs": [],
   "source": [
    "correlation_matrix = dataset.select_dtypes(include=[np.number]).corr()"
   ]
  },
  {
   "cell_type": "code",
   "execution_count": 337,
   "id": "a1bba7ba-6abb-4e6f-beee-7fc5d2d84821",
   "metadata": {},
   "outputs": [],
   "source": [
    "# Mapping correlation on the overall column \n",
    "# This enables the inspection of how the overall rating of players varies with other columns\n",
    "corr_overall = correlation_matrix['overall'].sort_values(ascending=False)"
   ]
  },
  {
   "cell_type": "code",
   "execution_count": 338,
   "id": "2bc1f670-947e-43ad-9b06-8f25768e1460",
   "metadata": {},
   "outputs": [
    {
     "data": {
      "text/plain": [
       "overall                        1.000000\n",
       "movement_reactions             0.845753\n",
       "potential                      0.695362\n",
       "passing                        0.629868\n",
       "wage_eur                       0.607297\n",
       "mentality_composure            0.600033\n",
       "value_eur                      0.562677\n",
       "dribbling                      0.561034\n",
       "attacking_short_passing        0.499757\n",
       "mentality_vision               0.493282\n",
       "international_reputation       0.485234\n",
       "skill_long_passing             0.483808\n",
       "power_shot_power               0.480297\n",
       "physic                         0.473469\n",
       "age                            0.458390\n",
       "skill_ball_control             0.457011\n",
       "shooting                       0.444746\n",
       "skill_curve                    0.415863\n",
       "power_long_shots               0.409086\n",
       "mentality_aggression           0.398310\n",
       "attacking_crossing             0.396833\n",
       "skill_fk_accuracy              0.387269\n",
       "attacking_volleys              0.377048\n",
       "skill_dribbling                0.369827\n",
       "power_stamina                  0.360025\n",
       "power_strength                 0.350786\n",
       "mentality_positioning          0.350178\n",
       "attacking_heading_accuracy     0.340029\n",
       "mentality_penalties            0.334488\n",
       "skill_moves                    0.330951\n",
       "attacking_finishing            0.326376\n",
       "mentality_interceptions        0.314282\n",
       "defending                      0.293706\n",
       "power_jumping                  0.275578\n",
       "defending_marking_awareness    0.274173\n",
       "movement_agility               0.263671\n",
       "defending_standing_tackle      0.250624\n",
       "defending_sliding_tackle       0.220398\n",
       "movement_sprint_speed          0.208990\n",
       "movement_acceleration          0.194625\n",
       "pace                           0.171704\n",
       "weight_kg                      0.140015\n",
       "movement_balance               0.099129\n",
       "height_cm                      0.044415\n",
       "goalkeeping_positioning       -0.004731\n",
       "goalkeeping_handling          -0.010862\n",
       "goalkeeping_reflexes          -0.011783\n",
       "goalkeeping_diving            -0.013603\n",
       "goalkeeping_kicking           -0.015521\n",
       "Name: overall, dtype: float64"
      ]
     },
     "execution_count": 338,
     "metadata": {},
     "output_type": "execute_result"
    }
   ],
   "source": [
    "corr_overall"
   ]
  },
  {
   "cell_type": "code",
   "execution_count": 339,
   "id": "6f9adcd6-59b1-4129-958f-481c38d370e1",
   "metadata": {},
   "outputs": [
    {
     "data": {
      "text/plain": [
       "(161583, 49)"
      ]
     },
     "execution_count": 339,
     "metadata": {},
     "output_type": "execute_result"
    }
   ],
   "source": [
    "dataset.shape"
   ]
  },
  {
   "cell_type": "markdown",
   "id": "c056c237-0a09-42d0-9ae1-d2ecc97d13a9",
   "metadata": {},
   "source": [
    "## FEATURE ENGINEERING"
   ]
  },
  {
   "cell_type": "markdown",
   "id": "57bf3e28-92f7-47fc-91a0-fb626e62fdab",
   "metadata": {},
   "source": [
    "#### Feature engineering is the process of creating new features or transforming existing features in a dataset to improve the performance of machine learning models. This involves using domain knowledge, creativity, and various techniques to extract useful information from raw data that can enhance the predictive power of the model."
   ]
  },
  {
   "cell_type": "code",
   "execution_count": 340,
   "id": "7c8ce830-3a3c-4569-839f-f375f9ed53ae",
   "metadata": {},
   "outputs": [],
   "source": [
    "# Aggregating statistics for mental\n",
    "mentality_stats = ['mentality_composure','mentality_aggression','mentality_positioning','mentality_vision','mentality_penalties','mentality_interceptions']\n",
    "dataset['mental'] = dataset[mentality_stats].mean(axis = 1)\n",
    "dataset.drop(columns = mentality_stats, inplace = True)"
   ]
  },
  {
   "cell_type": "code",
   "execution_count": 341,
   "id": "58fc25e9-4cee-49cb-94bd-2828d0d2734e",
   "metadata": {},
   "outputs": [],
   "source": [
    "# Aggregating statistics for power\n",
    "power_stats = ['power_shot_power','power_long_shots','power_stamina','power_long_shots','power_strength','power_jumping']\n",
    "dataset['power'] = dataset[power_stats].mean(axis = 1)\n",
    "dataset.drop(columns = power_stats, inplace = True)"
   ]
  },
  {
   "cell_type": "code",
   "execution_count": 342,
   "id": "e584a302-d24c-4259-bdb0-247f2491fd65",
   "metadata": {},
   "outputs": [],
   "source": [
    "# Aggregating statistics for skill\n",
    "skill_stats = ['skill_fk_accuracy','skill_long_passing','skill_ball_control','skill_curve','skill_dribbling','skill_moves']\n",
    "dataset['skill'] = dataset[skill_stats].mean(axis=1)\n",
    "dataset.drop(columns = skill_stats, inplace = True)"
   ]
  },
  {
   "cell_type": "code",
   "execution_count": 343,
   "id": "de6ac3b2-0352-4582-a706-dec505744f68",
   "metadata": {},
   "outputs": [],
   "source": [
    "# Aggregating statistics for goal keeping\n",
    "goal_keeping_stats = ['goalkeeping_diving', 'goalkeeping_handling', 'goalkeeping_kicking','goalkeeping_positioning', 'goalkeeping_reflexes']\n",
    "dataset['goalkeeping'] = dataset[goal_keeping_stats].mean(axis=1)\n",
    "dataset.drop(columns = goal_keeping_stats, inplace=True)"
   ]
  },
  {
   "cell_type": "code",
   "execution_count": 344,
   "id": "f4ea3250-527e-4ffd-8af7-d0b869c29999",
   "metadata": {},
   "outputs": [],
   "source": [
    "# Aggregating statistics for movement\n",
    "movement_stats = ['movement_acceleration','movement_sprint_speed','movement_agility','movement_reactions','movement_balance']\n",
    "dataset['movement'] = dataset[movement_stats].mean(axis = 1)\n",
    "dataset.drop(columns = movement_stats, inplace = True)"
   ]
  },
  {
   "cell_type": "code",
   "execution_count": 345,
   "id": "9c98910d-262e-4493-be85-f1cd27aa0b7e",
   "metadata": {},
   "outputs": [],
   "source": [
    "# Aggregating statistics for attack\n",
    "attacking_stats = ['attacking_crossing','attacking_finishing','attacking_heading_accuracy','attacking_short_passing','attacking_volleys']\n",
    "dataset['attack'] = dataset[attacking_stats].mean(axis = 1)\n",
    "dataset.drop(columns = attacking_stats, inplace = True)"
   ]
  },
  {
   "cell_type": "code",
   "execution_count": 346,
   "id": "27f4efc8-f5f7-4592-acb9-d7e14a8ad2eb",
   "metadata": {},
   "outputs": [],
   "source": [
    "# Aggregating statistics for defence\n",
    "defending_stats = ['defending_marking_awareness','defending_standing_tackle','defending_sliding_tackle']\n",
    "dataset['defence'] = dataset[defending_stats].mean(axis = 1)\n",
    "dataset.drop(columns = defending_stats, inplace = True)"
   ]
  },
  {
   "cell_type": "code",
   "execution_count": 347,
   "id": "24b4c7f4-9223-44cd-bfd1-3197d1b4f93f",
   "metadata": {},
   "outputs": [
    {
     "name": "stdout",
     "output_type": "stream",
     "text": [
      "<class 'pandas.core.frame.DataFrame'>\n",
      "RangeIndex: 161583 entries, 0 to 161582\n",
      "Data columns (total 21 columns):\n",
      " #   Column                    Non-Null Count   Dtype  \n",
      "---  ------                    --------------   -----  \n",
      " 0   overall                   161583 non-null  int64  \n",
      " 1   potential                 161583 non-null  int64  \n",
      " 2   value_eur                 161583 non-null  float64\n",
      " 3   wage_eur                  161583 non-null  float64\n",
      " 4   age                       161583 non-null  int64  \n",
      " 5   height_cm                 161583 non-null  int64  \n",
      " 6   weight_kg                 161583 non-null  int64  \n",
      " 7   international_reputation  161583 non-null  int64  \n",
      " 8   pace                      161583 non-null  float64\n",
      " 9   shooting                  161583 non-null  float64\n",
      " 10  passing                   161583 non-null  float64\n",
      " 11  dribbling                 161583 non-null  float64\n",
      " 12  defending                 161583 non-null  float64\n",
      " 13  physic                    161583 non-null  float64\n",
      " 14  mental                    161583 non-null  float64\n",
      " 15  power                     161583 non-null  float64\n",
      " 16  skill                     161583 non-null  float64\n",
      " 17  goalkeeping               161583 non-null  float64\n",
      " 18  movement                  161583 non-null  float64\n",
      " 19  attack                    161583 non-null  float64\n",
      " 20  defence                   161583 non-null  float64\n",
      "dtypes: float64(15), int64(6)\n",
      "memory usage: 25.9 MB\n"
     ]
    },
    {
     "data": {
      "text/plain": [
       "(161583, 21)"
      ]
     },
     "execution_count": 347,
     "metadata": {},
     "output_type": "execute_result"
    }
   ],
   "source": [
    "dataset.info()\n",
    "dataset.shape"
   ]
  }
 ],
 "metadata": {
  "kernelspec": {
   "display_name": "Python 3 (ipykernel)",
   "language": "python",
   "name": "python3"
  },
  "language_info": {
   "codemirror_mode": {
    "name": "ipython",
    "version": 3
   },
   "file_extension": ".py",
   "mimetype": "text/x-python",
   "name": "python",
   "nbconvert_exporter": "python",
   "pygments_lexer": "ipython3",
   "version": "3.12.3"
  }
 },
 "nbformat": 4,
 "nbformat_minor": 5
}
